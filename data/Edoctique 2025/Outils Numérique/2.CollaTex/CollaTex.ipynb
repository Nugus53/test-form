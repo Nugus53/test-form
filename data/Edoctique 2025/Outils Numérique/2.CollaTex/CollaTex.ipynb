{
 "cells": [
  {
   "cell_type": "code",
   "execution_count": null,
   "id": "1075940b-3870-4ae6-9829-9945540ca482",
   "metadata": {},
   "outputs": [],
   "source": [
    "import sys\n",
    "import os\n",
    "sys.path.insert(0, os.path.abspath('../src'))\n",
    "from corpora import corporaMenu"
   ]
  },
  {
   "cell_type": "markdown",
   "id": "fa889aa9",
   "metadata": {},
   "source": [
    "# Collatex \n",
    "\n",
    "- Aligner des morceaux de textes entre eux\n",
    "- les algorythme sont inspiré de la biogénitique qui souvent cherche a aligner des Gène"
   ]
  },
  {
   "cell_type": "markdown",
   "id": "0cbbd7fa",
   "metadata": {},
   "source": [
    "## Entrer ces données"
   ]
  },
  {
   "cell_type": "code",
   "execution_count": null,
   "id": "5ba99209",
   "metadata": {},
   "outputs": [],
   "source": [
    "corporaMenu('new',{\"segmentation\":False,\"near_match\":False,\"layout\":\"horizontal\",\"output\":\"html\",\"path\":\"demo/demo_Jerihna3.json\"},tab_index=0)"
   ]
  },
  {
   "cell_type": "markdown",
   "id": "8db7938f",
   "metadata": {},
   "source": [
    "## Aligner les témoins"
   ]
  },
  {
   "cell_type": "code",
   "execution_count": null,
   "id": "7f784743",
   "metadata": {},
   "outputs": [],
   "source": [
    "corporaMenu('new',{\"segmentation\":False,\"near_match\":False,\"layout\":\"horizontal\",\"output\":\"html\",\"path\":\"demo/demo_Jerihna3.json\"},tab_index=1)"
   ]
  },
  {
   "cell_type": "markdown",
   "id": "66c16016",
   "metadata": {},
   "source": [
    "### Les options \n",
    "\n",
    "- **segmentation** : qui permet de regrouper des morceaux de textes\n",
    "- **near_match** : essayer de trouver des similitudes entres les tokens pour les aligner"
   ]
  },
  {
   "cell_type": "code",
   "execution_count": null,
   "id": "6d59d225-b572-4138-a810-9db05e898dc2",
   "metadata": {},
   "outputs": [],
   "source": [
    "corporaMenu('new',{\"segmentation\":True,\"near_match\":False,\"layout\":\"horizontal\",\"output\":\"html\",\"path\":\"demo/demo_Jerihna3.json\"},tab_index=1)"
   ]
  },
  {
   "cell_type": "code",
   "execution_count": null,
   "id": "a3e89dee",
   "metadata": {},
   "outputs": [],
   "source": [
    "corporaMenu('new',{\"segmentation\":False,\"near_match\":True,\"layout\":\"horizontal\",\"output\":\"html\",\"path\":\"demo/demo_Jerihna3.json\"},tab_index=1)"
   ]
  },
  {
   "cell_type": "markdown",
   "id": "8fe9bb6d",
   "metadata": {},
   "source": [
    "### Les formats de sortie \n",
    "\n",
    "- **table** "
   ]
  },
  {
   "cell_type": "code",
   "execution_count": null,
   "id": "4327627e",
   "metadata": {},
   "outputs": [],
   "source": [
    "corporaMenu('new',{\"segmentation\":False,\"near_match\":True,\"layout\":\"horizontal\",\"output\":\"table\",\"path\":\"demo/demo_Jerihna3.json\"},tab_index=1)"
   ]
  },
  {
   "cell_type": "markdown",
   "id": "dc026871",
   "metadata": {},
   "source": [
    "- **csv/tsv**"
   ]
  },
  {
   "cell_type": "code",
   "execution_count": null,
   "id": "630b8c4c",
   "metadata": {},
   "outputs": [],
   "source": [
    "corporaMenu('new',{\"segmentation\":False,\"near_match\":True,\"layout\":\"horizontal\",\"output\":\"csv\",\"path\":\"demo/demo_Jerihna3.json\"},tab_index=1)"
   ]
  },
  {
   "cell_type": "code",
   "execution_count": null,
   "id": "8728db82",
   "metadata": {},
   "outputs": [],
   "source": [
    "corporaMenu('new',{\"segmentation\":False,\"near_match\":True,\"layout\":\"horizontal\",\"output\":\"tsv\",\"path\":\"demo/demo_Jerihna3.json\"},tab_index=1)"
   ]
  },
  {
   "cell_type": "markdown",
   "id": "86dbb3c7",
   "metadata": {},
   "source": [
    "- **hmtl**"
   ]
  },
  {
   "cell_type": "code",
   "execution_count": null,
   "id": "4f517072",
   "metadata": {},
   "outputs": [],
   "source": [
    "corporaMenu('new',{\"segmentation\":False,\"near_match\":True,\"layout\":\"horizontal\",\"output\":\"html\",\"path\":\"demo/demo_Jerihna3.json\"},tab_index=1)"
   ]
  },
  {
   "cell_type": "markdown",
   "id": "10505687",
   "metadata": {},
   "source": [
    "- **html2**"
   ]
  },
  {
   "cell_type": "code",
   "execution_count": null,
   "id": "2a3526e0",
   "metadata": {},
   "outputs": [],
   "source": [
    "corporaMenu('new',{\"segmentation\":False,\"near_match\":True,\"layout\":\"horizontal\",\"output\":\"html2\",\"path\":\"demo/demo_Jerihna3.json\"},tab_index=1)"
   ]
  },
  {
   "cell_type": "markdown",
   "id": "0ca491e0",
   "metadata": {},
   "source": [
    "- **svg simple**"
   ]
  },
  {
   "cell_type": "code",
   "execution_count": null,
   "id": "41fe4978",
   "metadata": {},
   "outputs": [],
   "source": [
    "corporaMenu('new',{\"segmentation\":False,\"near_match\":True,\"output\":\"svg_simple\",\"path\":\"demo/demo_Jerihna3.json\"},tab_index=1)"
   ]
  },
  {
   "cell_type": "markdown",
   "id": "5957f90b",
   "metadata": {},
   "source": [
    "- **svg**"
   ]
  },
  {
   "cell_type": "code",
   "execution_count": null,
   "id": "fcc33c77",
   "metadata": {},
   "outputs": [],
   "source": [
    "corporaMenu('new',{\"segmentation\":False,\"near_match\":True,\"output\":\"svg\",\"path\":\"demo/demo_Jerihna3.json\"},tab_index=1)"
   ]
  },
  {
   "cell_type": "markdown",
   "id": "20b2ebed",
   "metadata": {},
   "source": [
    "- **tei**"
   ]
  },
  {
   "cell_type": "code",
   "execution_count": null,
   "id": "1175bc9f",
   "metadata": {},
   "outputs": [],
   "source": [
    "corporaMenu('new',{\"segmentation\":False,\"near_match\":True,\"output\":\"tei\",\"path\":\"demo/demo_Jerihna3.json\"},tab_index=1)"
   ]
  },
  {
   "cell_type": "markdown",
   "id": "a47d26f3",
   "metadata": {},
   "source": [
    "## A vous de Jouez !"
   ]
  },
  {
   "cell_type": "markdown",
   "id": "16b1c655",
   "metadata": {},
   "source": [
    "- **Alignements de témoins** :\n",
    "\n",
    "Entrée dans les noms Hébreux de Jerôme "
   ]
  },
  {
   "cell_type": "code",
   "execution_count": null,
   "id": "05f097cc",
   "metadata": {},
   "outputs": [],
   "source": [
    "corporaMenu('new',{\"path\":\"demo/demo_Jerihna3.json\"},tab_index=0)"
   ]
  },
  {
   "cell_type": "code",
   "execution_count": null,
   "id": "08a8a6b7",
   "metadata": {},
   "outputs": [],
   "source": [
    "corporaMenu('new',{\"path\":\"demo/demo_Jerihna2.json\"},tab_index=0)"
   ]
  },
  {
   "cell_type": "markdown",
   "id": "20ed2a65",
   "metadata": {},
   "source": [
    "example issu du stage d'eddoctique"
   ]
  },
  {
   "cell_type": "code",
   "execution_count": null,
   "id": "67656d7b",
   "metadata": {},
   "outputs": [],
   "source": [
    "corporaMenu('new',{\"path\":\"demo/demo_Testimonia_chap16.json\"},tab_index=0)"
   ]
  },
  {
   "cell_type": "markdown",
   "id": "44bf71da",
   "metadata": {},
   "source": [
    "- **Alignement de citation** :\n",
    "\n",
    "verset dans la Bible et leur citations chez plusieurs auteurs Gal1:1 relévé par Justin Hagerman"
   ]
  },
  {
   "cell_type": "code",
   "execution_count": null,
   "id": "86be8366",
   "metadata": {},
   "outputs": [],
   "source": [
    "corporaMenu('new',{\"path\":\"demo/demo_Jerihna3.json\"},tab_index=0)"
   ]
  }
 ],
 "metadata": {
  "kernelspec": {
   "display_name": "Python 3 (ipykernel)",
   "language": "python",
   "name": "python3"
  },
  "language_info": {
   "codemirror_mode": {
    "name": "ipython",
    "version": 3
   },
   "file_extension": ".py",
   "mimetype": "text/x-python",
   "name": "python",
   "nbconvert_exporter": "python",
   "pygments_lexer": "ipython3",
   "version": "3.10.12"
  }
 },
 "nbformat": 4,
 "nbformat_minor": 5
}
