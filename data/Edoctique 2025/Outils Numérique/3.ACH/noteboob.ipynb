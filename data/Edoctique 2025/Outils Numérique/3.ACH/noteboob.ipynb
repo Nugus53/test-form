{
 "cells": [
  {
   "cell_type": "markdown",
   "metadata": {},
   "source": []
  },
  {
   "cell_type": "code",
   "execution_count": null,
   "metadata": {},
   "outputs": [],
   "source": [
    "!make all\n",
    "\n",
    "import sys\n",
    "import os\n",
    "sys.path.insert(0, os.path.abspath('./src'))\n",
    "from eddo import get_frequence\n",
    "sys.path.insert(0, os.path.abspath('./src'))\n",
    "from widget import ashMenu"
   ]
  },
  {
   "cell_type": "markdown",
   "metadata": {},
   "source": [
    "# L’Analyse en Classification Hiérarchique (ACH) et la comparaison des manuscrits\n",
    "\n",
    "L’**Analyse en Classification Hiérarchique (ACH)** est une méthode statistique qui permet de comparer et de regrouper des objets en fonction de leurs similarités. Appliquée à la **philologie classique**, elle peut être utilisée pour comparer des manuscrits entre eux et tenter de reconstruire leur histoire."
   ]
  },
  {
   "cell_type": "markdown",
   "metadata": {},
   "source": [
    "## Pourquoi utiliser l’ACH pour comparer des manuscrits ?\n",
    "\n",
    "\n",
    "\n",
    "Les manuscrits anciens sont souvent des copies de copies, avec des erreurs, des corrections et des variantes introduites au fil du temps. L’ACH permet de **classer ces manuscrits en fonction de leur ressemblance** et peut aider à :\n",
    "\n",
    "![ACH example](img/image.png \"ACH example\")\n",
    "\n",
    "\n",
    "\n",
    "- **Visualiser les relations entre les manuscrits** sous forme d’un **arbre hiérarchique** (*dendrogramme*).  \n",
    "  - L’a hauteur entre deux branche représente l’importance des décisions : plus les branches sont proches, plus l’algorithme est indécis sur la séparation entre les manuscrits.\n",
    "\n",
    "- **Regrouper des familles de manuscrits** qui partagent des caractéristiques communes.\n",
    "- **Faire des hypothèses sur l’évolution des textes**, en identifiant les manuscrits qui semblent être des copies d’une même source."
   ]
  },
  {
   "cell_type": "markdown",
   "metadata": {},
   "source": [
    "\n",
    "## Les limites de l’ACH dans ce contexte\n",
    "\n",
    "L’ACH repose sur des **choix méthodologiques** qui influencent fortement les résultats :\n",
    "\n",
    "### 1. Le choix des données en entrée\n"
   ]
  },
  {
   "cell_type": "code",
   "execution_count": null,
   "metadata": {},
   "outputs": [],
   "source": [
    "\n",
    "texts = {\n",
    "    \"1A\": \"Malgré sa taille imposante, le lion se penche avec une incroyable précision pour saisir la petite souris qui passe près de lui.\",\n",
    "    \"1B\": \"Bien que son gabarit soit imposant, le lion s'incline avec une précision remarquable pour attraper la souris qui se faufile à proximité.\",\n",
    "    \"1C\": \"En dépit de sa stature imposante, le lion se courbe avec une précision étonnante pour attraper la petite souris qui s'approche de lui.\",\n",
    "    \"1D\": \"Nonobstant sa corpulence imposante, le lion se penche avec une précision éblouissante pour saisir la petite souris qui circule à ses côtés.\",\n",
    "    \"3A\": \"La souris frémit de terreur alors que le lion s'approche, prêt à la dévorer en un seul coup de crocs.\",\n",
    "    \"3B\": \"La souris tremble de terreur tandis que le lion s'approche, prêt à la saisir en un seul mouvement de mâchoires.\",\n",
    "    \"3C\": \"Prise de frayeur, la souris frissonne alors que le lion s'approche, prêt à la capturer d'un seul coup de dent.\",\n",
    "    \"3D\": \"Sous l'emprise de la peur, la souris frémit tandis que le lion s'approche, prêt à l'avaler d'un seul coup de crocs.\",\n",
    "    \"4A\": \"La souris tente désespérément de fuir, mais elle se retrouve bientôt prise dans les griffes redoutables du lion affamé.\",\n",
    "    \"4B\": \"La souris lutte désespérément pour s'échapper, mais elle se trouve bientôt enserrée dans les redoutables serres du lion vorace.\",\n",
    "    \"4C\": \"Malgré ses efforts désespérés pour s'évader, la souris se retrouve rapidement enserrée dans les griffes menaçantes du lion affamé.\",\n",
    "    \"4D\": \"Tentant vainement de fuir, la souris se voit rapidement capturée par les redoutables griffes du lion qui la guette avec avidité.\"\n",
    "}\n"
   ]
  },
  {
   "cell_type": "markdown",
   "metadata": {},
   "source": [
    "Que faut-il comparer ? Plusieurs options sont possibles :\n",
    "\n",
    "- **Les variantes textuelles** :  \n",
    "  - Faut-il compter **chaque mot différent** ?  \n",
    "\n"
   ]
  },
  {
   "cell_type": "code",
   "execution_count": null,
   "metadata": {},
   "outputs": [],
   "source": [
    "value=get_frequence(texts)\n",
    "display(value)\n",
    "ashMenu(value)"
   ]
  },
  {
   "cell_type": "markdown",
   "metadata": {},
   "source": [
    "- Chaque **lettre** ?"
   ]
  },
  {
   "cell_type": "code",
   "execution_count": null,
   "metadata": {},
   "outputs": [],
   "source": [
    "value=get_frequence(texts,regex=\"\\S\")\n",
    "display(value)\n",
    "ashMenu(value)"
   ]
  },
  {
   "cell_type": "markdown",
   "metadata": {},
   "source": [
    "  - Chaque **lemme** (forme de base d’un mot) ?  "
   ]
  },
  {
   "cell_type": "code",
   "execution_count": null,
   "metadata": {},
   "outputs": [],
   "source": [
    "value=get_frequence(texts,feature=\"lemma\",model='fr_core_news_lg')\n",
    "display(value)\n",
    "ashMenu(value)"
   ]
  },
  {
   "cell_type": "markdown",
   "metadata": {},
   "source": [
    "  - Chaque **partie du discours** ?  "
   ]
  },
  {
   "cell_type": "code",
   "execution_count": null,
   "metadata": {},
   "outputs": [],
   "source": [
    "value=get_frequence(texts,feature=\"pos\",model='fr_core_news_lg')\n",
    "display(value)\n",
    "ashMenu(value)"
   ]
  },
  {
   "cell_type": "markdown",
   "metadata": {},
   "source": [
    "  - Chaque **type d’erreur** ?  \n",
    "  - Faut-il **pondérer** certaines erreurs plus que d’autres ? Est-ce normalisable à l’ensemble du corpus ?"
   ]
  },
  {
   "cell_type": "markdown",
   "metadata": {},
   "source": [
    "- **Les passages entiers** :  \n",
    "  - Comment quantifier leur similarité ?  \n",
    "  - Doit-on simplement **compter la fréquence de chaque token** (unité de texte) ?  \n",
    "  - Faut-il utiliser des calculs comme le **TF-IDF** (terme-fréquence inverse de la fréquence documentaire) pour normaliser la longueur des textes ?"
   ]
  },
  {
   "cell_type": "markdown",
   "metadata": {},
   "source": [
    "### 3. Le traitement des omissions\n",
    "\n",
    "Certains manuscrits sont incomplets. Il faut donc décider :\n",
    "\n",
    "- Faut-il les **ignorer** ou les prendre en compte différemment ?\n",
    "- Certaines distances, comme **Jaccard**, peuvent s’adapter, tandis que d’autres ne tolèrent pas les données manquantes.\n",
    "\n",
    "### 4. Le choix de la méthode d’agrégation\n",
    "\n",
    "L’ACH regroupe les manuscrits en fonction de différentes méthodes de liaison :\n",
    "\n",
    "- **Single** (plus proche voisin)\n",
    "- **Complete** (plus éloigné voisin)\n",
    "- **Average** (moyenne des distances)\n",
    "- **Weighted** (pondération)\n",
    "- **Centroid** (centre de masse)\n",
    "- **Median** (médiane)\n",
    "- **Ward** (minimisation de la variance)\n",
    "\n",
    "Chacune de ces méthodes influence la proximité entre les branches et donc l’interprétation des résultats.\n",
    "\n",
    "### 5. L’interprétation des résultats\n",
    "\n",
    "- L’ACH **ne reconstitue pas directement un stemma codicum** (arbre généalogique des manuscrits), mais propose **une classification statistique**.\n",
    "- Un groupe proche dans le dendrogramme **ne signifie pas forcément qu’un manuscrit est la copie directe d’un autre**.\n",
    "\n",
    "---\n",
    "\n",
    "## Conclusion\n",
    "\n",
    "L’ACH est un **outil puissant** pour **visualiser et analyser les relations entre manuscrits**, mais il ne remplace pas une **analyse philologique classique**. Son efficacité dépend du **choix des variantes analysées**, de la **mesure de distance utilisée** et des **méthodes de classification**. Il doit toujours être combiné avec une expertise philologique pour éviter des conclusions erronées.\n",
    "\n",
    "Vous souhaitez un exemple concret ou un schéma explicatif ?"
   ]
  }
 ],
 "metadata": {
  "kernelspec": {
   "display_name": "Python 3 (ipykernel)",
   "language": "python",
   "name": "python3"
  },
  "language_info": {
   "codemirror_mode": {
    "name": "ipython",
    "version": 3
   },
   "file_extension": ".py",
   "mimetype": "text/x-python",
   "name": "python",
   "nbconvert_exporter": "python",
   "pygments_lexer": "ipython3",
   "version": "3.10.12"
  }
 },
 "nbformat": 4,
 "nbformat_minor": 4
}
